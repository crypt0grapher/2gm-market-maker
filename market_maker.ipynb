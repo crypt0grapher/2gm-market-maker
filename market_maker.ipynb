{
 "cells": [
  {
   "cell_type": "markdown",
   "id": "7543cada",
   "metadata": {},
   "source": [
    "## Cell 0: preamble\n",
    "Install required libraries."
   ]
  },
  {
   "cell_type": "code",
   "execution_count": null,
   "id": "2b4604fd",
   "metadata": {},
   "outputs": [],
   "source": [
    "!pip install -q ccxt ccxtpro pandas pyarrow matplotlib"
   ]
  },
  {
   "cell_type": "markdown",
   "id": "b01f6351",
   "metadata": {},
   "source": [
    "## Cell 1: imports"
   ]
  },
  {
   "cell_type": "code",
   "execution_count": null,
   "id": "b2a18d05",
   "metadata": {},
   "outputs": [],
   "source": [
    "\n",
    "import asyncio\n",
    "import ccxt\n",
    "import ccxt.pro as ccxtpro\n",
    "import pandas as pd\n",
    "import numpy as np\n",
    "import matplotlib.pyplot as plt\n",
    "from dataclasses import dataclass\n",
    "from pathlib import Path\n"
   ]
  },
  {
   "cell_type": "markdown",
   "id": "47066836",
   "metadata": {},
   "source": [
    "## Cell 2: config loader"
   ]
  },
  {
   "cell_type": "code",
   "execution_count": null,
   "id": "158b2ef5",
   "metadata": {},
   "outputs": [],
   "source": [
    "\n",
    "import yaml\n",
    "from dotenv import load_dotenv\n",
    "import os\n",
    "\n",
    "load_dotenv()\n",
    "\n",
    "def load_config(path='config.yml'):\n",
    "    if Path(path).exists():\n",
    "        with open(path) as f:\n",
    "            cfg = yaml.safe_load(f)\n",
    "    else:\n",
    "        cfg = {}\n",
    "    cfg.update({\n",
    "        'apiKey': os.getenv('API_KEY'),\n",
    "        'secret': os.getenv('API_SECRET'),\n",
    "        'symbol': cfg.get('symbol', 'BTC/USDT'),\n",
    "        'Q_max': cfg.get('Q_max', 1.0),\n",
    "    })\n",
    "    masked_key = cfg['apiKey'][:4] + '...' if cfg['apiKey'] else None\n",
    "    print('Loaded config for symbol', cfg['symbol'], 'API', masked_key)\n",
    "    return cfg\n",
    "\n",
    "config = load_config()\n"
   ]
  },
  {
   "cell_type": "markdown",
   "id": "3bc52919",
   "metadata": {},
   "source": [
    "## Cell 3: exchange connect"
   ]
  },
  {
   "cell_type": "code",
   "execution_count": null,
   "id": "e33149b9",
   "metadata": {},
   "outputs": [],
   "source": [
    "\n",
    "async def get_exchange(async_ws=False):\n",
    "    if async_ws:\n",
    "        exchange = ccxtpro.binance({'enableRateLimit': True})\n",
    "    else:\n",
    "        exchange = ccxt.binance({'enableRateLimit': True})\n",
    "    await exchange.load_markets() if async_ws else exchange.load_markets()\n",
    "    return exchange\n",
    "\n",
    "# Instantiate REST and WS\n",
    "rest = ccxt.binance({'enableRateLimit': True})\n",
    "ws = None\n",
    "try:\n",
    "    rest.load_markets()\n",
    "    print('REST connected')\n",
    "except Exception as e:\n",
    "    print('REST connection failed:', e)\n"
   ]
  },
  {
   "cell_type": "markdown",
   "id": "96504cfd",
   "metadata": {},
   "source": [
    "## Cell 4: helper classes"
   ]
  },
  {
   "cell_type": "code",
   "execution_count": null,
   "id": "fba66c19",
   "metadata": {},
   "outputs": [],
   "source": [
    "\n",
    "class Ingest:\n",
    "    async def stream_orderbook(self, exchange, symbol, depth=20):\n",
    "        while True:\n",
    "            try:\n",
    "                ob = await exchange.watch_order_book(symbol, depth)\n",
    "                yield ob['timestamp'], ob['bids'], ob['asks']\n",
    "            except Exception as e:\n",
    "                print('WS error', e)\n",
    "                await asyncio.sleep(1)\n",
    "\n",
    "class Features:\n",
    "    def update_sigma(self, prices):\n",
    "        return np.std(np.diff(np.log(prices))) * np.sqrt(len(prices))\n",
    "\n",
    "    def update_vpin(self, trades):\n",
    "        return np.clip(np.random.rand(), 0, 1)  # placeholder\n",
    "\n",
    "class Params:\n",
    "    def update_k(self, slip_spread, tau):\n",
    "        return 0.1 * tau\n",
    "\n",
    "class Inventory:\n",
    "    def __init__(self, qmax=1.0):\n",
    "        self.q = 0.0\n",
    "        self.qmax = qmax\n",
    "\n",
    "    def update(self, dq):\n",
    "        self.q = max(-self.qmax, min(self.qmax, self.q + dq))\n",
    "        return self.q\n",
    "\n",
    "class Quotes:\n",
    "    def make_quotes(self, mid, k, tau, kappa, Q):\n",
    "        delta_info = k * tau\n",
    "        psi = kappa * Q\n",
    "        ask = mid + delta_info - psi\n",
    "        bid = mid - delta_info - psi\n",
    "        return bid, ask\n",
    "\n",
    "class Orders:\n",
    "    def sync_quotes(self, bid, ask):\n",
    "        print(f'Would place bid {bid} ask {ask}')\n",
    "\n",
    "class Metrics:\n",
    "    def calc_metrics(self, fills, inventory):\n",
    "        return {'pnl': np.sum(fills)}\n",
    "\n",
    "class Plotting:\n",
    "    def plot_pnl(self, df):\n",
    "        df.cumsum().plot()\n",
    "        plt.show()\n",
    "\n",
    "# unit tests\n",
    "\n",
    "def run_unit_tests():\n",
    "    q = Quotes()\n",
    "    bid, ask = q.make_quotes(100, 0.1, 0.5, 0.01, 0)\n",
    "    assert ask >= bid >= 0\n",
    "    inv = Inventory()\n",
    "    inv.update(1)\n",
    "    assert inv.q == 1\n",
    "    print('All unit tests passed')\n"
   ]
  },
  {
   "cell_type": "markdown",
   "id": "9e238f84",
   "metadata": {},
   "source": [
    "## Cell 5: historical back-fill"
   ]
  },
  {
   "cell_type": "code",
   "execution_count": null,
   "id": "de46c15d",
   "metadata": {},
   "outputs": [],
   "source": [
    "\n",
    "import pandas as pd\n",
    "try:\n",
    "    trades = rest.fetch_trades(config['symbol'], limit=50)\n",
    "    prices = [t['price'] for t in trades]\n",
    "except Exception as e:\n",
    "    print('Fetch trades failed:', e)\n",
    "    prices = [30000 + i for i in range(50)]\n",
    "\n",
    "features = Features()\n",
    "initial_sigma = features.update_sigma(prices)\n",
    "print('Initial sigma', initial_sigma)\n"
   ]
  },
  {
   "cell_type": "markdown",
   "id": "c9b43d8f",
   "metadata": {},
   "source": [
    "## Cell 6: live async loop"
   ]
  },
  {
   "cell_type": "code",
   "execution_count": null,
   "id": "c3ec6bd6",
   "metadata": {},
   "outputs": [],
   "source": [
    "\n",
    "async def live_loop():\n",
    "    global ws\n",
    "    ws = await get_exchange(async_ws=True)\n",
    "    ingest = Ingest()\n",
    "    params = Params()\n",
    "    quotes = Quotes()\n",
    "    inventory = Inventory(config['Q_max'])\n",
    "    kappa = 0.01\n",
    "    async for ts, bids, asks in ingest.stream_orderbook(ws, config['symbol']):\n",
    "        mid = (bids[0][0] + asks[0][0]) / 2\n",
    "        tau = features.update_vpin([])\n",
    "        k = params.update_k(asks[0][0]-bids[0][0], tau)\n",
    "        bid, ask = quotes.make_quotes(mid, k, tau, kappa, inventory.q)\n",
    "        Orders().sync_quotes(bid, ask)\n",
    "        inventory.update(0)\n",
    "        break\n",
    "\n",
    "await live_loop()\n"
   ]
  },
  {
   "cell_type": "markdown",
   "id": "ab08876f",
   "metadata": {},
   "source": [
    "## Cell 7: metrics snapshot"
   ]
  },
  {
   "cell_type": "code",
   "execution_count": null,
   "id": "50e3d0c8",
   "metadata": {},
   "outputs": [],
   "source": [
    "\n",
    "metrics = Metrics()\n",
    "print(metrics.calc_metrics([0.1, -0.05], 0))\n"
   ]
  },
  {
   "cell_type": "markdown",
   "id": "efaa5adf",
   "metadata": {},
   "source": [
    "## Cell 8: shutdown handler"
   ]
  },
  {
   "cell_type": "code",
   "execution_count": null,
   "id": "4c0faf4e",
   "metadata": {},
   "outputs": [],
   "source": [
    "\n",
    "if ws:\n",
    "    await ws.close()\n",
    "print('Shutdown complete')\n"
   ]
  },
  {
   "cell_type": "markdown",
   "id": "a85e1595",
   "metadata": {},
   "source": [
    "## Cell 9: plots"
   ]
  },
  {
   "cell_type": "code",
   "execution_count": null,
   "id": "0374332e",
   "metadata": {},
   "outputs": [],
   "source": [
    "\n",
    "plotter = Plotting()\n",
    "plotter.plot_pnl(pd.Series([0.1, -0.05, 0.2]))\n"
   ]
  },
  {
   "cell_type": "markdown",
   "id": "417c1aa0",
   "metadata": {},
   "source": [
    "## Cell 10: unit tests"
   ]
  },
  {
   "cell_type": "code",
   "execution_count": null,
   "id": "d3597426",
   "metadata": {},
   "outputs": [],
   "source": [
    "\n",
    "run_unit_tests()\n"
   ]
  },
  {
   "cell_type": "markdown",
   "id": "c47e0571",
   "metadata": {},
   "source": [
    "## Cell 11: backtest demo"
   ]
  },
  {
   "cell_type": "code",
   "execution_count": null,
   "id": "c52cd708",
   "metadata": {},
   "outputs": [],
   "source": [
    "\n",
    "print('Backtest demo placeholder')\n"
   ]
  },
  {
   "cell_type": "markdown",
   "id": "3410953a",
   "metadata": {},
   "source": [
    "## Cell 12: FAQ / next steps\n",
    "TODO: add futures hedge, live OMS wrapper, dockerisation."
   ]
  }
 ],
 "metadata": {},
 "nbformat": 4,
 "nbformat_minor": 5
}
